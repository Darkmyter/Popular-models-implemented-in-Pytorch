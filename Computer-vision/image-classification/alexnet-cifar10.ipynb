{
 "cells": [
  {
   "attachments": {},
   "cell_type": "markdown",
   "metadata": {},
   "source": [
    "# Train AlexNet on CIFAR-10\n",
    "\n",
    "In this notebook is an implementation and the training of the AlexNet Convolutional Neural Network on CIFAR-10 dataset."
   ]
  },
  {
   "cell_type": "code",
   "execution_count": 1,
   "metadata": {},
   "outputs": [],
   "source": [
    "import torch\n",
    "import torch.nn as nn\n",
    "from torchinfo import summary\n",
    "from torchvision import datasets\n",
    "from torchvision import transforms\n",
    "from torch.utils.data.sampler import SubsetRandomSampler\n",
    "\n",
    "from pathlib import Path\n",
    "import numpy as np"
   ]
  },
  {
   "cell_type": "code",
   "execution_count": 2,
   "metadata": {},
   "outputs": [],
   "source": [
    "device = torch.device(\"cuda:0\" if torch.cuda.is_available() else \"cpu\")"
   ]
  },
  {
   "attachments": {},
   "cell_type": "markdown",
   "metadata": {},
   "source": [
    "## Build AlexNet model\n",
    "\n",
    "The original AlexNet proposed in the paper was designed to run on 2 GPUs due to the complexity of task at that time (2012). A re-implementation is proposed later to run ona single GPU.\n",
    "Bellow are the two implementations: ``AlexNetOriginal`` and ``AlexNetNew``"
   ]
  },
  {
   "cell_type": "code",
   "execution_count": 3,
   "metadata": {},
   "outputs": [],
   "source": [
    "class AlexNetOriginal(nn.Module):\n",
    "\n",
    "    def __init__(self, num_classes: int = 1000) -> None:\n",
    "        super().__init__()\n",
    "\n",
    "        self.features = nn.Sequential(\n",
    "            # layer 1\n",
    "            nn.Conv2d(3, 96, kernel_size=11, stride=4, padding=0), # output: 96x55x55\n",
    "            nn.ReLU(inplace=True),\n",
    "            nn.MaxPool2d(kernel_size=3, stride=2), # output: 96x27x27\n",
    "            # layer 2\n",
    "            nn.Conv2d(96, 256, kernel_size=5, stride=1, padding=2), # output: 256x27x27\n",
    "            nn.ReLU(inplace=True),\n",
    "            nn.MaxPool2d(kernel_size=3, stride=2), # output: 256x13x13\n",
    "            # layer 3\n",
    "            nn.Conv2d(256, 384, kernel_size=3, stride=1, padding=1), # output: 384x13x13\n",
    "            nn.ReLU(inplace=True),\n",
    "            # layer 4\n",
    "            nn.Conv2d(384, 384, kernel_size=3, stride=1, padding=1), # output: 384x13x13 \n",
    "            nn.ReLU(inplace=True),\n",
    "            # layer 5\n",
    "            nn.Conv2d(384, 256, kernel_size=3, padding=1), # output: 265x13x13 \n",
    "            nn.ReLU(inplace=True),\n",
    "            nn.MaxPool2d(kernel_size=3, stride=2) # output: 265x6x6\n",
    "        )\n",
    "\n",
    "        self.classifier = nn.Sequential(\n",
    "            nn.Dropout(0.5),\n",
    "            nn.Linear(256 * 6 * 6, 4096), # output: 4096\n",
    "            nn.ReLU(inplace=True),\n",
    "            nn.Dropout(0.5),\n",
    "            nn.Linear(4096, 4096), # output: 4096\n",
    "            nn.ReLU(inplace=True),\n",
    "            nn.Linear(4096, num_classes) # output: num_classes\n",
    "        )\n",
    "\n",
    "    def forward(self, x: torch.tensor) -> torch.tensor:\n",
    "        x = self.features(x)\n",
    "        x = torch.flatten(x, 1)\n",
    "        # x = x.reshape(x.size(0), -1)\n",
    "        x = self.classifier(x)\n",
    "\n",
    "        return x\n"
   ]
  },
  {
   "cell_type": "code",
   "execution_count": 4,
   "metadata": {},
   "outputs": [],
   "source": [
    "class AlexNetNew(nn.Module):\n",
    "    def __init__(self, num_classes: int = 1000, dropout: float = 0.5) -> None:\n",
    "        super().__init__()\n",
    "        self.features = nn.Sequential(\n",
    "            nn.Conv2d(3, 64, kernel_size=11, stride=4, padding=2),\n",
    "            nn.ReLU(inplace=True),\n",
    "            nn.MaxPool2d(kernel_size=3, stride=2),\n",
    "            nn.Conv2d(64, 192, kernel_size=5, padding=2),\n",
    "            nn.ReLU(inplace=True),\n",
    "            nn.MaxPool2d(kernel_size=3, stride=2),\n",
    "            nn.Conv2d(192, 384, kernel_size=3, padding=1),\n",
    "            nn.ReLU(inplace=True),\n",
    "            nn.Conv2d(384, 256, kernel_size=3, padding=1),\n",
    "            nn.ReLU(inplace=True),\n",
    "            nn.Conv2d(256, 256, kernel_size=3, padding=1),\n",
    "            nn.ReLU(inplace=True),\n",
    "            nn.MaxPool2d(kernel_size=3, stride=2),\n",
    "        )\n",
    "        self.avgpool = nn.AdaptiveAvgPool2d((6, 6))\n",
    "        self.classifier = nn.Sequential(\n",
    "            nn.Dropout(p=dropout),\n",
    "            nn.Linear(256 * 6 * 6, 4096),\n",
    "            nn.ReLU(inplace=True),\n",
    "            nn.Dropout(p=dropout),\n",
    "            nn.Linear(4096, 4096),\n",
    "            nn.ReLU(inplace=True),\n",
    "            nn.Linear(4096, num_classes),\n",
    "        )\n",
    "\n",
    "    def forward(self, x: torch.Tensor) -> torch.Tensor:\n",
    "        x = self.features(x)\n",
    "        x = self.avgpool(x)\n",
    "        x = torch.flatten(x, 1)\n",
    "        x = self.classifier(x)\n",
    "        return x"
   ]
  },
  {
   "cell_type": "code",
   "execution_count": 5,
   "metadata": {},
   "outputs": [],
   "source": [
    "model_original = AlexNetOriginal()"
   ]
  },
  {
   "cell_type": "code",
   "execution_count": 6,
   "metadata": {},
   "outputs": [],
   "source": [
    "model_new = AlexNetNew()"
   ]
  },
  {
   "cell_type": "code",
   "execution_count": 7,
   "metadata": {},
   "outputs": [],
   "source": [
    "if torch.cuda.is_available():\n",
    "    model_original.cuda()\n",
    "    model_new.cuda()\n"
   ]
  },
  {
   "attachments": {},
   "cell_type": "markdown",
   "metadata": {},
   "source": [
    "Original model summary"
   ]
  },
  {
   "cell_type": "code",
   "execution_count": 8,
   "metadata": {},
   "outputs": [
    {
     "data": {
      "text/plain": [
       "==========================================================================================\n",
       "Layer (type:depth-idx)                   Output Shape              Param #\n",
       "==========================================================================================\n",
       "AlexNetOriginal                          [1, 1000]                 --\n",
       "├─Sequential: 1-1                        [1, 256, 6, 6]            --\n",
       "│    └─Conv2d: 2-1                       [1, 96, 55, 55]           34,944\n",
       "│    └─ReLU: 2-2                         [1, 96, 55, 55]           --\n",
       "│    └─MaxPool2d: 2-3                    [1, 96, 27, 27]           --\n",
       "│    └─Conv2d: 2-4                       [1, 256, 27, 27]          614,656\n",
       "│    └─ReLU: 2-5                         [1, 256, 27, 27]          --\n",
       "│    └─MaxPool2d: 2-6                    [1, 256, 13, 13]          --\n",
       "│    └─Conv2d: 2-7                       [1, 384, 13, 13]          885,120\n",
       "│    └─ReLU: 2-8                         [1, 384, 13, 13]          --\n",
       "│    └─Conv2d: 2-9                       [1, 384, 13, 13]          1,327,488\n",
       "│    └─ReLU: 2-10                        [1, 384, 13, 13]          --\n",
       "│    └─Conv2d: 2-11                      [1, 256, 13, 13]          884,992\n",
       "│    └─ReLU: 2-12                        [1, 256, 13, 13]          --\n",
       "│    └─MaxPool2d: 2-13                   [1, 256, 6, 6]            --\n",
       "├─Sequential: 1-2                        [1, 1000]                 --\n",
       "│    └─Dropout: 2-14                     [1, 9216]                 --\n",
       "│    └─Linear: 2-15                      [1, 4096]                 37,752,832\n",
       "│    └─ReLU: 2-16                        [1, 4096]                 --\n",
       "│    └─Dropout: 2-17                     [1, 4096]                 --\n",
       "│    └─Linear: 2-18                      [1, 4096]                 16,781,312\n",
       "│    └─ReLU: 2-19                        [1, 4096]                 --\n",
       "│    └─Linear: 2-20                      [1, 1000]                 4,097,000\n",
       "==========================================================================================\n",
       "Total params: 62,378,344\n",
       "Trainable params: 62,378,344\n",
       "Non-trainable params: 0\n",
       "Total mult-adds (G): 1.14\n",
       "==========================================================================================\n",
       "Input size (MB): 0.62\n",
       "Forward/backward pass size (MB): 5.27\n",
       "Params size (MB): 249.51\n",
       "Estimated Total Size (MB): 255.41\n",
       "=========================================================================================="
      ]
     },
     "execution_count": 8,
     "metadata": {},
     "output_type": "execute_result"
    }
   ],
   "source": [
    "summary(model_original, input_size=(1, 3, 227, 227))"
   ]
  },
  {
   "attachments": {},
   "cell_type": "markdown",
   "metadata": {},
   "source": [
    "New Implementation model"
   ]
  },
  {
   "cell_type": "code",
   "execution_count": 9,
   "metadata": {},
   "outputs": [
    {
     "data": {
      "text/plain": [
       "==========================================================================================\n",
       "Layer (type:depth-idx)                   Output Shape              Param #\n",
       "==========================================================================================\n",
       "AlexNetNew                               [1, 1000]                 --\n",
       "├─Sequential: 1-1                        [1, 256, 6, 6]            --\n",
       "│    └─Conv2d: 2-1                       [1, 64, 56, 56]           23,296\n",
       "│    └─ReLU: 2-2                         [1, 64, 56, 56]           --\n",
       "│    └─MaxPool2d: 2-3                    [1, 64, 27, 27]           --\n",
       "│    └─Conv2d: 2-4                       [1, 192, 27, 27]          307,392\n",
       "│    └─ReLU: 2-5                         [1, 192, 27, 27]          --\n",
       "│    └─MaxPool2d: 2-6                    [1, 192, 13, 13]          --\n",
       "│    └─Conv2d: 2-7                       [1, 384, 13, 13]          663,936\n",
       "│    └─ReLU: 2-8                         [1, 384, 13, 13]          --\n",
       "│    └─Conv2d: 2-9                       [1, 256, 13, 13]          884,992\n",
       "│    └─ReLU: 2-10                        [1, 256, 13, 13]          --\n",
       "│    └─Conv2d: 2-11                      [1, 256, 13, 13]          590,080\n",
       "│    └─ReLU: 2-12                        [1, 256, 13, 13]          --\n",
       "│    └─MaxPool2d: 2-13                   [1, 256, 6, 6]            --\n",
       "├─AdaptiveAvgPool2d: 1-2                 [1, 256, 6, 6]            --\n",
       "├─Sequential: 1-3                        [1, 1000]                 --\n",
       "│    └─Dropout: 2-14                     [1, 9216]                 --\n",
       "│    └─Linear: 2-15                      [1, 4096]                 37,752,832\n",
       "│    └─ReLU: 2-16                        [1, 4096]                 --\n",
       "│    └─Dropout: 2-17                     [1, 4096]                 --\n",
       "│    └─Linear: 2-18                      [1, 4096]                 16,781,312\n",
       "│    └─ReLU: 2-19                        [1, 4096]                 --\n",
       "│    └─Linear: 2-20                      [1, 1000]                 4,097,000\n",
       "==========================================================================================\n",
       "Total params: 61,100,840\n",
       "Trainable params: 61,100,840\n",
       "Non-trainable params: 0\n",
       "Total mult-adds (M): 717.27\n",
       "==========================================================================================\n",
       "Input size (MB): 0.62\n",
       "Forward/backward pass size (MB): 4.01\n",
       "Params size (MB): 244.40\n",
       "Estimated Total Size (MB): 249.03\n",
       "=========================================================================================="
      ]
     },
     "execution_count": 9,
     "metadata": {},
     "output_type": "execute_result"
    }
   ],
   "source": [
    "summary(model_new, input_size=(1, 3, 227, 227))"
   ]
  },
  {
   "attachments": {},
   "cell_type": "markdown",
   "metadata": {},
   "source": [
    "## Prepare training and validation data\n",
    "\n",
    "Next, we will prepare our `DataLoader` with the CIFAT-10 dataset.\n",
    "\n",
    "The input images will undergo these transformations:\n",
    " * Resize from 3x32x32 to 3x227x227\n",
    " * Normalization using mean=[0.4914, 0.4822, 0.4465] and std=[0.2023, 0.1994, 0.2010]\n",
    "\n",
    "Training images are also augmented to improve the generalization of the model:\n",
    "\n",
    " * Random crops of size 32x32 with padding 4\n",
    " * Random horizontal flips"
   ]
  },
  {
   "cell_type": "code",
   "execution_count": 19,
   "metadata": {},
   "outputs": [],
   "source": [
    "def get_loaders(\n",
    "    data_dir: Path,\n",
    "    batch_size: int,\n",
    "    augment: bool,\n",
    "    shuffle: bool,\n",
    "    random_seed: int,\n",
    "    val_size: float = 0.1,\n",
    "    ):\n",
    "\n",
    "    # Transformations\n",
    "\n",
    "    normalize = transforms.Normalize(\n",
    "        mean=[0.4914, 0.4822, 0.4465],\n",
    "        std=[0.2023, 0.1994, 0.2010],\n",
    "    )\n",
    "\n",
    "    ## validation transform\n",
    "    valid_transform = transforms.Compose([\n",
    "        transforms.Resize((227, 227)),\n",
    "        transforms.ToTensor(),\n",
    "        normalize,\n",
    "    ])\n",
    "\n",
    "    ## test transform\n",
    "\n",
    "    test_transform = transforms.Compose([\n",
    "        transforms.Resize((227, 227)),\n",
    "        transforms.ToTensor(),\n",
    "        normalize,\n",
    "    ])\n",
    "\n",
    "    ## Train transform\n",
    "    if augment:\n",
    "        train_transform = transforms.Compose([\n",
    "            transforms.RandomCrop(32, padding=4),\n",
    "            transforms.RandomHorizontalFlip(0.5),\n",
    "            transforms.Resize((227, 227)),\n",
    "            transforms.ToTensor(),\n",
    "            normalize,\n",
    "        ])\n",
    "    else:\n",
    "        train_transform = transforms.Compose([\n",
    "        transforms.Resize((227, 227)),\n",
    "        transforms.ToTensor(),\n",
    "        normalize,\n",
    "    ])\n",
    "\n",
    "    # Load dataset\n",
    "    train_dataset = datasets.CIFAR10(\n",
    "        root=data_dir, train=True, download=True, transform=train_transform,\n",
    "    )\n",
    "\n",
    "    val_dataset = datasets.CIFAR10(\n",
    "        root=data_dir ,train=True, download=True, transform=valid_transform,\n",
    "    )\n",
    "\n",
    "    test_dataset = datasets.CIFAR10(\n",
    "        root=data_dir ,train=False, download=True, transform=test_transform,\n",
    "    )\n",
    "\n",
    "\n",
    "    num_train = len(train_dataset)\n",
    "    indices = list(range(num_train))\n",
    "    split = int(np.floor(val_size * num_train))\n",
    "\n",
    "    if shuffle:\n",
    "        np.random.seed(random_seed)\n",
    "        np.random.shuffle(indices)\n",
    "\n",
    "    train_idx, valid_idx = indices[split:], indices[:split]\n",
    "    train_sampler = SubsetRandomSampler(train_idx)\n",
    "    valid_sampler = SubsetRandomSampler(valid_idx)\n",
    "\n",
    "    train_loader = torch.utils.data.DataLoader(\n",
    "        train_dataset, batch_size=batch_size, sampler=train_sampler)\n",
    " \n",
    "    val_loader = torch.utils.data.DataLoader(\n",
    "        val_dataset, batch_size=batch_size, sampler=valid_sampler)\n",
    "\n",
    "    test_loader = torch.utils.data.DataLoader(\n",
    "        test_dataset, batch_size=batch_size\n",
    "    )\n",
    "\n",
    "    return train_loader, val_loader, test_loader\n"
   ]
  },
  {
   "cell_type": "code",
   "execution_count": 6,
   "metadata": {},
   "outputs": [],
   "source": [
    "batch_size = 64\n",
    "random_seed = 1\n",
    "augment = True"
   ]
  },
  {
   "cell_type": "code",
   "execution_count": 20,
   "metadata": {},
   "outputs": [
    {
     "name": "stdout",
     "output_type": "stream",
     "text": [
      "Files already downloaded and verified\n",
      "Files already downloaded and verified\n",
      "Files already downloaded and verified\n"
     ]
    }
   ],
   "source": [
    "train_loader, val_loader, test_loader = get_loaders(Path(\"./data\"), batch_size=batch_size, random_seed=random_seed, augment=augment, shuffle=True)"
   ]
  },
  {
   "attachments": {},
   "cell_type": "markdown",
   "metadata": {},
   "source": [
    "## Training our models"
   ]
  },
  {
   "cell_type": "code",
   "execution_count": 8,
   "metadata": {},
   "outputs": [],
   "source": [
    "num_classes = 10\n",
    "num_epochs = 20\n",
    "batch_size = 64\n",
    "learning_rate = 0.005\n",
    "weight_decay_rate = 0.005\n",
    "momentum = 0.9"
   ]
  },
  {
   "cell_type": "code",
   "execution_count": 9,
   "metadata": {},
   "outputs": [],
   "source": [
    "model = AlexNetOriginal(num_classes).to(device)"
   ]
  },
  {
   "cell_type": "code",
   "execution_count": 10,
   "metadata": {},
   "outputs": [],
   "source": [
    "# Loss and optimizer\n",
    "criterion = nn.CrossEntropyLoss()\n",
    "optimizer = torch.optim.SGD(model.parameters(), lr=learning_rate, weight_decay=weight_decay_rate, momentum=momentum)"
   ]
  },
  {
   "attachments": {},
   "cell_type": "markdown",
   "metadata": {},
   "source": [
    "### Start the training"
   ]
  },
  {
   "cell_type": "code",
   "execution_count": 11,
   "metadata": {},
   "outputs": [],
   "source": [
    "total_steps = len(train_loader)"
   ]
  },
  {
   "cell_type": "code",
   "execution_count": 12,
   "metadata": {},
   "outputs": [
    {
     "name": "stdout",
     "output_type": "stream",
     "text": [
      "Epoch [1/20 Loss: 1.8184]\n",
      "Validation accuracy: 34.14 % \n",
      "Epoch [2/20 Loss: 1.6470]\n",
      "Validation accuracy: 45.12 % \n",
      "Epoch [3/20 Loss: 1.1431]\n",
      "Validation accuracy: 50.20 % \n",
      "Epoch [4/20 Loss: 1.1385]\n",
      "Validation accuracy: 56.74 % \n",
      "Epoch [5/20 Loss: 0.7557]\n",
      "Validation accuracy: 61.12 % \n",
      "Epoch [6/20 Loss: 1.9326]\n",
      "Validation accuracy: 63.26 % \n",
      "Epoch [7/20 Loss: 0.3600]\n",
      "Validation accuracy: 63.94 % \n",
      "Epoch [8/20 Loss: 1.6786]\n",
      "Validation accuracy: 67.22 % \n",
      "Epoch [9/20 Loss: 1.3729]\n",
      "Validation accuracy: 67.04 % \n",
      "Epoch [10/20 Loss: 1.3579]\n",
      "Validation accuracy: 70.72 % \n",
      "Epoch [11/20 Loss: 0.9584]\n",
      "Validation accuracy: 74.32 % \n",
      "Epoch [12/20 Loss: 0.3411]\n",
      "Validation accuracy: 75.58 % \n",
      "Epoch [13/20 Loss: 0.4991]\n",
      "Validation accuracy: 73.04 % \n",
      "Epoch [14/20 Loss: 0.6647]\n",
      "Validation accuracy: 75.78 % \n",
      "Epoch [15/20 Loss: 1.7162]\n",
      "Validation accuracy: 72.38 % \n",
      "Epoch [16/20 Loss: 0.7227]\n",
      "Validation accuracy: 76.38 % \n",
      "Epoch [17/20 Loss: 0.3848]\n",
      "Validation accuracy: 76.56 % \n",
      "Epoch [18/20 Loss: 0.5870]\n",
      "Validation accuracy: 75.72 % \n",
      "Epoch [19/20 Loss: 1.0652]\n",
      "Validation accuracy: 76.36 % \n",
      "Epoch [20/20 Loss: 0.5723]\n",
      "Validation accuracy: 79.26 % \n"
     ]
    }
   ],
   "source": [
    "for epoch in range(num_epochs):\n",
    "    for i, (images, labels) in enumerate(train_loader):\n",
    "\n",
    "        # move tensors to device\n",
    "        images = images.to(device)\n",
    "        labels = labels.to(device)\n",
    "\n",
    "        # Forward pass\n",
    "        outputs = model(images)\n",
    "        loss = criterion(outputs, labels)\n",
    "\n",
    "        # Backward and optimize\n",
    "        optimizer.zero_grad()\n",
    "        loss.backward()\n",
    "        optimizer.step()\n",
    "\n",
    "    print(f'Epoch [{epoch+1}/{num_epochs} Loss: {loss.item():.4f}]')\n",
    "\n",
    "    # validation\n",
    "    with torch.no_grad():\n",
    "        correct = 0\n",
    "        total = 0\n",
    "        for images, labels in val_loader:\n",
    "            images = images.to(device)\n",
    "            labels = labels.to(device)\n",
    "\n",
    "            outputs = model(images)\n",
    "            _, preds = torch.max(outputs.data, 1)\n",
    "            total += labels.size(0)\n",
    "            correct += (preds == labels).sum().item()\n",
    "            del images, labels, outputs\n",
    "\n",
    "        print(f'Validation accuracy: {100 * correct / total:.2f} % ')\n"
   ]
  },
  {
   "cell_type": "code",
   "execution_count": 21,
   "metadata": {},
   "outputs": [
    {
     "name": "stdout",
     "output_type": "stream",
     "text": [
      "Test accuracy: 78.89 % \n"
     ]
    }
   ],
   "source": [
    "with torch.no_grad():\n",
    "    correct = 0\n",
    "    total = 0\n",
    "    for images, labels in test_loader:\n",
    "        images = images.to(device)\n",
    "        labels = labels.to(device)\n",
    "        outputs = model(images)\n",
    "        _, predicted = torch.max(outputs.data, 1)\n",
    "        total += labels.size(0)\n",
    "        correct += (predicted == labels).sum().item()\n",
    "        del images, labels, outputs\n",
    "\n",
    "    print(f'Test accuracy: {100 * correct / total:.2f} % ')"
   ]
  },
  {
   "cell_type": "code",
   "execution_count": null,
   "metadata": {},
   "outputs": [],
   "source": []
  }
 ],
 "metadata": {
  "kernelspec": {
   "display_name": "pytorch",
   "language": "python",
   "name": "python3"
  },
  "language_info": {
   "codemirror_mode": {
    "name": "ipython",
    "version": 3
   },
   "file_extension": ".py",
   "mimetype": "text/x-python",
   "name": "python",
   "nbconvert_exporter": "python",
   "pygments_lexer": "ipython3",
   "version": "3.9.12 (main, Apr  4 2022, 05:22:27) [MSC v.1916 64 bit (AMD64)]"
  },
  "orig_nbformat": 4,
  "vscode": {
   "interpreter": {
    "hash": "991dd71463084a6bddd8ef9e90cf6d90f86a0cd7caebdf41e4a3a53d25408441"
   }
  }
 },
 "nbformat": 4,
 "nbformat_minor": 2
}
